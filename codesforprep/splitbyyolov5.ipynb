{
 "cells": [
  {
   "cell_type": "markdown",
   "metadata": {},
   "source": [
    "use this code in yolov5 dir to split data into two or three."
   ]
  },
  {
   "cell_type": "code",
   "execution_count": 3,
   "metadata": {},
   "outputs": [],
   "source": [
    "from utils import datasets"
   ]
  },
  {
   "cell_type": "code",
   "execution_count": 4,
   "metadata": {},
   "outputs": [
    {
     "name": "stdout",
     "output_type": "stream",
     "text": [
      "Autosplitting images from C:\\Users\\Jake\\Desktop\\datasets\n"
     ]
    },
    {
     "name": "stderr",
     "output_type": "stream",
     "text": [
      "100%|██████████| 2955/2955 [00:00<00:00, 4937.51it/s]\n"
     ]
    }
   ],
   "source": [
    "path = \"C:\\\\Users\\\\Jake\\\\Desktop\\\\datasets\"\n",
    "datasets.autosplit(path=path, weights=(0.8, 0.2, 0))"
   ]
  }
 ],
 "metadata": {
  "interpreter": {
   "hash": "77600113ac8b5d5e1a2ff27d68471d570f4524e9e8501223ede469f1b9e3b036"
  },
  "kernelspec": {
   "display_name": "Python 3.9.12 ('cloned_base')",
   "language": "python",
   "name": "python3"
  },
  "language_info": {
   "codemirror_mode": {
    "name": "ipython",
    "version": 3
   },
   "file_extension": ".py",
   "mimetype": "text/x-python",
   "name": "python",
   "nbconvert_exporter": "python",
   "pygments_lexer": "ipython3",
   "version": "3.9.12"
  },
  "orig_nbformat": 4
 },
 "nbformat": 4,
 "nbformat_minor": 2
}
