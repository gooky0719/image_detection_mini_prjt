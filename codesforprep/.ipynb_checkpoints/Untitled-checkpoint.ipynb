{
 "cells": [
  {
   "cell_type": "code",
   "execution_count": 13,
   "id": "762662c5-4a77-41a9-bec8-1434b6058d5f",
   "metadata": {},
   "outputs": [],
   "source": [
    "import json\n",
    "import os"
   ]
  },
  {
   "cell_type": "code",
   "execution_count": 15,
   "id": "c004a01d-546e-4ad3-899d-78d426b68691",
   "metadata": {},
   "outputs": [],
   "source": [
    "work_path = 'C:\\\\Users\\\\Jake\\\\Desktop\\\\test'\n",
    "destination = 'C:\\\\Users\\\\Jake\\\\Desktop\\\\dest'"
   ]
  },
  {
   "cell_type": "code",
   "execution_count": null,
   "id": "d15f8a40-4f41-493e-8667-acfd5f463b5c",
   "metadata": {},
   "outputs": [],
   "source": [
    "tree = os.walk(work_path)\n",
    "for files in tree:\n",
    "    print(files)"
   ]
  },
  {
   "cell_type": "code",
   "execution_count": 19,
   "id": "ea42cf66-11ba-435c-b019-391682fcab99",
   "metadata": {},
   "outputs": [],
   "source": [
    "cls_dic= {\n",
    "    '기타': 0,\n",
    "    '신문지': 1,\n",
    "    '상자류': 2,\n",
    "    '음료수곽': 3,\n",
    "    '종이봉투': 4,\n",
    "    '일회용음료수잔': 5,\n",
    "    '페트병': 6,\n",
    "    '음료수병': 7,\n",
    "    '맥주병': 8,\n",
    "    '소주병': 9,\n",
    "    '음료수캔': 10,\n",
    "    '커피캔': 11,\n",
    "    '봉투': 12,\n",
    "    '일회용덮개': 13,\n",
    "}"
   ]
  },
  {
   "cell_type": "code",
   "execution_count": 20,
   "id": "d0a4a81c-ae2a-46f4-9e91-86c75c30a08d",
   "metadata": {},
   "outputs": [],
   "source": [
    "tree = os.walk(work_path)\n",
    "for files in tree:\n",
    "    if '.json' in files[2] or '.Json' in files[2]:\n",
    "        with open(files[0]+'/'+f, 'rt') as sample:\n",
    "            sample = json.load(sample)\n",
    "\n",
    "        f_name = sample['FILE NAME']\n",
    "        f_name = f_name.split('.')[0]\n",
    "\n",
    "        res = sample['RESOLUTION']\n",
    "        res = res.split('*')\n",
    "        x_res, y_res = res\n",
    "        x_res, y_res = int(x_res), int(y_res)\n",
    "\n",
    "        csl_name = sample['Bounding'][0]['DETAILS']\n",
    "\n",
    "        x1 = sample['Bounding'][0]['x1']\n",
    "        x1 = int(x1)\n",
    "        y1 = sample['Bounding'][0]['y1']\n",
    "        y1 = int(y1)\n",
    "        x2 = sample['Bounding'][0]['x2']\n",
    "        x2 = int(x2)\n",
    "        y2 = sample['Bounding'][0]['y2']\n",
    "        y2 = int(y2)\n",
    "\n",
    "        x_center = ((x1+x2)/2)/x_res\n",
    "        y_center = ((y1+y2)/2)/y_res\n",
    "\n",
    "        width = (x2-x1)/x_res\n",
    "        height = (y2-y1)/y_res\n",
    "\n",
    "        cls_num = cls_dic[csl_name]\n",
    "\n",
    "        txt_content = f'{cls_num} {x_center} {y_center} {width} {height}'\n",
    "        txt_name = f'{f_name}.txt'\n",
    "\n",
    "        with open(destination + '/' + f_name + '.txt','wt') as f:\n",
    "            f.write(txt_content)"
   ]
  },
  {
   "cell_type": "code",
   "execution_count": null,
   "id": "4935d56f-ee83-4228-8249-10b1fc086c2c",
   "metadata": {},
   "outputs": [],
   "source": []
  }
 ],
 "metadata": {
  "kernelspec": {
   "display_name": "Python 3 (ipykernel)",
   "language": "python",
   "name": "python3"
  },
  "language_info": {
   "codemirror_mode": {
    "name": "ipython",
    "version": 3
   },
   "file_extension": ".py",
   "mimetype": "text/x-python",
   "name": "python",
   "nbconvert_exporter": "python",
   "pygments_lexer": "ipython3",
   "version": "3.9.12"
  }
 },
 "nbformat": 4,
 "nbformat_minor": 5
}
