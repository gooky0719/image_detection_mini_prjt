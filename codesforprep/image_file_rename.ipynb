{
 "cells": [
  {
   "cell_type": "code",
   "execution_count": 1,
   "metadata": {},
   "outputs": [],
   "source": [
    "import os"
   ]
  },
  {
   "cell_type": "code",
   "execution_count": 2,
   "metadata": {},
   "outputs": [],
   "source": [
    "src_path = 'C:\\\\Users\\\\Jake\\\\Desktop\\\\images'"
   ]
  },
  {
   "cell_type": "code",
   "execution_count": 7,
   "metadata": {},
   "outputs": [],
   "source": [
    "for img_f in os.listdir(src_path):\n",
    "    corrected = img_f[:-4]\n",
    "    old = os.path.join(src_path, img_f)\n",
    "    new = os.path.join(src_path, corrected)\n",
    "    os.rename(old, new)"
   ]
  }
 ],
 "metadata": {
  "interpreter": {
   "hash": "77600113ac8b5d5e1a2ff27d68471d570f4524e9e8501223ede469f1b9e3b036"
  },
  "kernelspec": {
   "display_name": "Python 3.9.7 ('cloned_base')",
   "language": "python",
   "name": "python3"
  },
  "language_info": {
   "codemirror_mode": {
    "name": "ipython",
    "version": 3
   },
   "file_extension": ".py",
   "mimetype": "text/x-python",
   "name": "python",
   "nbconvert_exporter": "python",
   "pygments_lexer": "ipython3",
   "version": "3.9.7"
  },
  "orig_nbformat": 4
 },
 "nbformat": 4,
 "nbformat_minor": 2
}
