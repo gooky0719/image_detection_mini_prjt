{
 "cells": [
  {
   "cell_type": "code",
   "execution_count": 8,
   "metadata": {},
   "outputs": [],
   "source": [
    "import os, shutil"
   ]
  },
  {
   "cell_type": "code",
   "execution_count": 9,
   "metadata": {},
   "outputs": [],
   "source": [
    "img_src = 'C:\\\\Users\\\\Jake\\\\Desktop\\\\images'\n",
    "lb_src = 'C:\\\\Users\\\\Jake\\\\Desktop\\\\labels'\n",
    "\n",
    "img_dest = 'C:\\\\Users\\\\Jake\\\\Desktop\\\\images_d'\n",
    "lb_dest = 'C:\\\\Users\\\\Jake\\\\Desktop\\\\labels_d'"
   ]
  },
  {
   "cell_type": "code",
   "execution_count": 10,
   "metadata": {},
   "outputs": [],
   "source": [
    "imgs = os.listdir(img_src)\n",
    "lbs = os.listdir(lb_src)"
   ]
  },
  {
   "cell_type": "code",
   "execution_count": 11,
   "metadata": {},
   "outputs": [],
   "source": [
    "img_names = []\n",
    "lb_names = []"
   ]
  },
  {
   "cell_type": "code",
   "execution_count": 12,
   "metadata": {},
   "outputs": [],
   "source": [
    "for lb in lbs:\n",
    "    lb_names.append(lb[:-4])"
   ]
  },
  {
   "cell_type": "code",
   "execution_count": 13,
   "metadata": {},
   "outputs": [],
   "source": [
    "for img in imgs:\n",
    "    img_names.append(img[:-4])"
   ]
  },
  {
   "cell_type": "code",
   "execution_count": 14,
   "metadata": {},
   "outputs": [],
   "source": [
    "for lb_name in lb_names:\n",
    "    if lb_name in img_names:\n",
    "        img_fn = lb_name+'.jpg'\n",
    "        lb_fn = lb_name+'.txt'\n",
    "        img_f_src = os.path.join(img_src, img_fn)\n",
    "        lb_f_src = os.path.join(lb_src, lb_fn)\n",
    "        img_f_dest = os.path.join(img_dest, img_fn)\n",
    "        lb_f_dest = os.path.join(lb_dest, lb_fn)\n",
    "        shutil.copyfile(img_f_src, img_f_dest)\n",
    "        shutil.copyfile(lb_f_src, lb_f_dest)"
   ]
  },
  {
   "cell_type": "code",
   "execution_count": null,
   "metadata": {},
   "outputs": [],
   "source": []
  }
 ],
 "metadata": {
  "interpreter": {
   "hash": "77600113ac8b5d5e1a2ff27d68471d570f4524e9e8501223ede469f1b9e3b036"
  },
  "kernelspec": {
   "display_name": "Python 3.9.7 ('cloned_base')",
   "language": "python",
   "name": "python3"
  },
  "language_info": {
   "codemirror_mode": {
    "name": "ipython",
    "version": 3
   },
   "file_extension": ".py",
   "mimetype": "text/x-python",
   "name": "python",
   "nbconvert_exporter": "python",
   "pygments_lexer": "ipython3",
   "version": "3.9.7"
  },
  "orig_nbformat": 4
 },
 "nbformat": 4,
 "nbformat_minor": 2
}
